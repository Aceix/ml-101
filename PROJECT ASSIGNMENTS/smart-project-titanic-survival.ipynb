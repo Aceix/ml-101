{
 "cells": [
  {
   "cell_type": "markdown",
   "id": "417d3c4d",
   "metadata": {},
   "source": [
    "# THE CHALENGE  - Titanic Data\n",
    "\n",
    "### Source :  Kaggle Competition"
   ]
  },
  {
   "cell_type": "raw",
   "id": "4f28e8b8",
   "metadata": {},
   "source": [
    "\n",
    "\n",
    "The sinking of the Titanic is one of the most infamous shipwrecks in history.\n",
    "\n",
    "On April 15, 1912, during her maiden voyage, the widely considered “unsinkable” \n",
    "RMS Titanic sank after colliding with an iceberg. \n",
    "\n",
    "Unfortunately, there weren’t enough lifeboats for everyone onboard, resulting in the death of 1502\n",
    "out of 2224 passengers and crew.\n",
    "\n",
    "While there was some element of luck involved in surviving, it seems some groups of \n",
    "people were more likely to survive than others.\n",
    "\n",
    "In this challenge, we ask you to build a predictive model that answers the question: \n",
    " “what sorts of people were more likely to survive?” using passenger data \n",
    "(ie name, age, gender, socio-economic class, etc).\n",
    "\n",
    " You would use your model later, to help the rescue team predict whether\n",
    "or not, some passengers (whose records were lost) survived the sinking of the Titanic."
   ]
  },
  {
   "cell_type": "code",
   "execution_count": 283,
   "id": "c1f8a614",
   "metadata": {},
   "outputs": [],
   "source": [
    "### import your necessary libraries\n",
    "\n",
    "import numpy as np\n",
    "\n",
    "import matplotlib.pyplot as plt\n",
    "import pandas as pd\n",
    "\n",
    "import seaborn as sns\n",
    "\n",
    "from sklearn.model_selection import train_test_split\n",
    "from sklearn.linear_model import LogisticRegression, LinearRegression\n",
    "from sklearn.metrics import mean_absolute_error,accuracy_score, mean_squared_error,confusion_matrix\n",
    "from sklearn.neighbors import KNeighborsClassifier\n",
    "from sklearn import svm\n",
    "from sklearn.tree import DecisionTreeClassifier\n",
    "from sklearn.metrics import r2_score\n",
    "\n",
    "from sklearn.preprocessing import LabelEncoder\n",
    "\n",
    "from sklearn.preprocessing import MinMaxScaler\n",
    "\n",
    "\n",
    "import joblib"
   ]
  },
  {
   "cell_type": "code",
   "execution_count": null,
   "id": "b642249f",
   "metadata": {},
   "outputs": [],
   "source": []
  },
  {
   "cell_type": "code",
   "execution_count": null,
   "id": "784001ef",
   "metadata": {},
   "outputs": [],
   "source": []
  },
  {
   "cell_type": "code",
   "execution_count": 254,
   "id": "4cb5fd29",
   "metadata": {},
   "outputs": [],
   "source": [
    "### Let us load our data\n",
    "\n",
    "data = pd.read_csv('titanic_data.csv')"
   ]
  },
  {
   "cell_type": "code",
   "execution_count": null,
   "id": "2fee84be",
   "metadata": {},
   "outputs": [],
   "source": []
  },
  {
   "cell_type": "markdown",
   "id": "3bb18d79",
   "metadata": {},
   "source": [
    "# DATA DICTIONARY\n",
    "\n",
    "The Data Dictionary shows the columns and their meanings in our Titanic Dataset\n",
    "\n",
    "You can always refer to it"
   ]
  },
  {
   "cell_type": "raw",
   "id": "1946b15d",
   "metadata": {},
   "source": [
    "## COLUMN NAME ##              ## DEFINITION ##\t                                      ## KEY / UNIQUE VALUES ##\n",
    "\n",
    "------------------------------------------------------------------------------------------------------------------------------\n",
    "survival       \t                 Survival \t                                            0 = No, 1 = Yes\n",
    "------------------------------------------------------------------------------------------------------------------------------\n",
    "pclass \t                        Ticket class \t                                       1 = 1st, 2 = 2nd, 3 = 3rd\n",
    "------------------------------------------------------------------------------------------------------------------------------\n",
    "sex \t                        Sex or Gender\n",
    "------------------------------------------------------------------------------------------------------------------------------\n",
    "Age \t                        Age in years \t\n",
    "------------------------------------------------------------------------------------------------------------------------------\n",
    "sibsp \t                No. of siblings / spouses aboard the Titanic \t\n",
    "------------------------------------------------------------------------------------------------------------------------------\n",
    "parch \t                No. of parents / children aboard the Titanic \t\n",
    "------------------------------------------------------------------------------------------------------------------------------\n",
    "ticket \t                        Ticket number \t\n",
    "------------------------------------------------------------------------------------------------------------------------------\n",
    "fare \t                        Passenger fare \t\n",
    "------------------------------------------------------------------------------------------------------------------------------\n",
    "cabin \t                        Cabin number \t\n",
    "------------------------------------------------------------------------------------------------------------------------------\n",
    "\n",
    "embarked \t                 Port of Embarkation \t                          C = Cherbourg, Q = Queenstown, S = Southampton"
   ]
  },
  {
   "cell_type": "code",
   "execution_count": null,
   "id": "2be82972",
   "metadata": {},
   "outputs": [],
   "source": []
  },
  {
   "cell_type": "code",
   "execution_count": null,
   "id": "7b7c8f6a",
   "metadata": {},
   "outputs": [],
   "source": []
  },
  {
   "cell_type": "markdown",
   "id": "5b75e831",
   "metadata": {},
   "source": [
    "# Define your Objective\n",
    "\n"
   ]
  },
  {
   "cell_type": "code",
   "execution_count": null,
   "id": "9c62db7a",
   "metadata": {},
   "outputs": [],
   "source": []
  },
  {
   "cell_type": "code",
   "execution_count": null,
   "id": "e9430802",
   "metadata": {},
   "outputs": [],
   "source": []
  },
  {
   "cell_type": "markdown",
   "id": "05c19b53",
   "metadata": {},
   "source": [
    "# QUESTIONS"
   ]
  },
  {
   "cell_type": "markdown",
   "id": "e7c5064b",
   "metadata": {},
   "source": [
    "#### QUESTION 1  \n",
    "#### Who is the oldest passenger and how old is (s)he?"
   ]
  },
  {
   "cell_type": "code",
   "execution_count": 255,
   "id": "2e2ebb90",
   "metadata": {},
   "outputs": [
    {
     "data": {
      "text/plain": [
       "count    714.000000\n",
       "mean      29.699118\n",
       "std       14.526497\n",
       "min        0.420000\n",
       "25%       20.125000\n",
       "50%       28.000000\n",
       "75%       38.000000\n",
       "max       80.000000\n",
       "Name: Age, dtype: float64"
      ]
     },
     "execution_count": 255,
     "metadata": {},
     "output_type": "execute_result"
    }
   ],
   "source": [
    "data[\"Age\"].describe()"
   ]
  },
  {
   "cell_type": "markdown",
   "id": "9bab3305",
   "metadata": {},
   "source": [
    "80 yrs"
   ]
  },
  {
   "cell_type": "code",
   "execution_count": null,
   "id": "9115e681",
   "metadata": {},
   "outputs": [],
   "source": []
  },
  {
   "cell_type": "markdown",
   "id": "d24db799",
   "metadata": {},
   "source": [
    "#### QUESTION 2\n",
    "#### From which City did a lot of passengers board the ship?\n",
    "#### You could give a graphical representation of this"
   ]
  },
  {
   "cell_type": "code",
   "execution_count": 256,
   "id": "7a287121",
   "metadata": {},
   "outputs": [
    {
     "data": {
      "text/plain": [
       "S    644\n",
       "C    168\n",
       "Q     77\n",
       "Name: Embarked, dtype: int64"
      ]
     },
     "execution_count": 256,
     "metadata": {},
     "output_type": "execute_result"
    }
   ],
   "source": [
    "data[\"Embarked\"].value_counts()"
   ]
  },
  {
   "cell_type": "markdown",
   "id": "e8eaf0f1",
   "metadata": {},
   "source": [
    "Southampton"
   ]
  },
  {
   "cell_type": "code",
   "execution_count": null,
   "id": "f8623b1a",
   "metadata": {},
   "outputs": [],
   "source": []
  },
  {
   "cell_type": "code",
   "execution_count": null,
   "id": "8014a7cb",
   "metadata": {},
   "outputs": [],
   "source": []
  },
  {
   "cell_type": "markdown",
   "id": "13410e7c",
   "metadata": {},
   "source": [
    "# Preprocessing / Data Cleaning\n"
   ]
  },
  {
   "cell_type": "code",
   "execution_count": null,
   "id": "b8861924",
   "metadata": {},
   "outputs": [],
   "source": []
  },
  {
   "cell_type": "markdown",
   "id": "0e1c5d55",
   "metadata": {},
   "source": [
    "#### Tips\n",
    "\n",
    "Check for null values\n",
    "\n",
    "Make sure to fill them with an appropriate metric\n",
    "\n",
    "drop columns that wont be necessary for predicting the survival of a passenger"
   ]
  },
  {
   "cell_type": "code",
   "execution_count": 257,
   "id": "ca66fe7d",
   "metadata": {},
   "outputs": [
    {
     "data": {
      "text/plain": [
       "PassengerId      0\n",
       "Survived         0\n",
       "Pclass           0\n",
       "Name             0\n",
       "Sex              0\n",
       "Age            177\n",
       "SibSp            0\n",
       "Parch            0\n",
       "Ticket           0\n",
       "Fare             0\n",
       "Cabin          687\n",
       "Embarked         2\n",
       "dtype: int64"
      ]
     },
     "execution_count": 257,
     "metadata": {},
     "output_type": "execute_result"
    }
   ],
   "source": [
    "data.isna().sum()"
   ]
  },
  {
   "cell_type": "code",
   "execution_count": 258,
   "id": "c4bcd72d",
   "metadata": {},
   "outputs": [
    {
     "data": {
      "text/plain": [
       "PassengerId      0\n",
       "Survived         0\n",
       "Pclass           0\n",
       "Name             0\n",
       "Sex              0\n",
       "Age              0\n",
       "SibSp            0\n",
       "Parch            0\n",
       "Ticket           0\n",
       "Fare             0\n",
       "Cabin          687\n",
       "Embarked         2\n",
       "dtype: int64"
      ]
     },
     "execution_count": 258,
     "metadata": {},
     "output_type": "execute_result"
    }
   ],
   "source": [
    "# fill null ages with mean age\n",
    "\n",
    "mean_age = data[\"Age\"].mean()\n",
    "mean_age = int(mean_age)\n",
    "\n",
    "data[\"Age\"].fillna(mean_age, inplace=True)\n",
    "data.isna().sum()"
   ]
  },
  {
   "cell_type": "code",
   "execution_count": 259,
   "id": "d5e1126b",
   "metadata": {},
   "outputs": [
    {
     "data": {
      "text/plain": [
       "Index(['PassengerId', 'Survived', 'Pclass', 'Name', 'Sex', 'Age', 'SibSp',\n",
       "       'Parch', 'Ticket', 'Fare', 'Cabin', 'Embarked'],\n",
       "      dtype='object')"
      ]
     },
     "execution_count": 259,
     "metadata": {},
     "output_type": "execute_result"
    }
   ],
   "source": [
    "data.columns"
   ]
  },
  {
   "cell_type": "code",
   "execution_count": 260,
   "id": "769295dd",
   "metadata": {},
   "outputs": [
    {
     "data": {
      "text/html": [
       "<div>\n",
       "<style scoped>\n",
       "    .dataframe tbody tr th:only-of-type {\n",
       "        vertical-align: middle;\n",
       "    }\n",
       "\n",
       "    .dataframe tbody tr th {\n",
       "        vertical-align: top;\n",
       "    }\n",
       "\n",
       "    .dataframe thead th {\n",
       "        text-align: right;\n",
       "    }\n",
       "</style>\n",
       "<table border=\"1\" class=\"dataframe\">\n",
       "  <thead>\n",
       "    <tr style=\"text-align: right;\">\n",
       "      <th></th>\n",
       "      <th>Survived</th>\n",
       "      <th>Pclass</th>\n",
       "      <th>Sex</th>\n",
       "      <th>Age</th>\n",
       "      <th>Fare</th>\n",
       "      <th>Embarked</th>\n",
       "    </tr>\n",
       "  </thead>\n",
       "  <tbody>\n",
       "    <tr>\n",
       "      <th>0</th>\n",
       "      <td>0</td>\n",
       "      <td>3</td>\n",
       "      <td>male</td>\n",
       "      <td>22.0</td>\n",
       "      <td>7.2500</td>\n",
       "      <td>S</td>\n",
       "    </tr>\n",
       "    <tr>\n",
       "      <th>1</th>\n",
       "      <td>1</td>\n",
       "      <td>1</td>\n",
       "      <td>female</td>\n",
       "      <td>38.0</td>\n",
       "      <td>71.2833</td>\n",
       "      <td>C</td>\n",
       "    </tr>\n",
       "    <tr>\n",
       "      <th>2</th>\n",
       "      <td>1</td>\n",
       "      <td>3</td>\n",
       "      <td>female</td>\n",
       "      <td>26.0</td>\n",
       "      <td>7.9250</td>\n",
       "      <td>S</td>\n",
       "    </tr>\n",
       "    <tr>\n",
       "      <th>3</th>\n",
       "      <td>1</td>\n",
       "      <td>1</td>\n",
       "      <td>female</td>\n",
       "      <td>35.0</td>\n",
       "      <td>53.1000</td>\n",
       "      <td>S</td>\n",
       "    </tr>\n",
       "    <tr>\n",
       "      <th>4</th>\n",
       "      <td>0</td>\n",
       "      <td>3</td>\n",
       "      <td>male</td>\n",
       "      <td>35.0</td>\n",
       "      <td>8.0500</td>\n",
       "      <td>S</td>\n",
       "    </tr>\n",
       "  </tbody>\n",
       "</table>\n",
       "</div>"
      ],
      "text/plain": [
       "   Survived  Pclass     Sex   Age     Fare Embarked\n",
       "0         0       3    male  22.0   7.2500        S\n",
       "1         1       1  female  38.0  71.2833        C\n",
       "2         1       3  female  26.0   7.9250        S\n",
       "3         1       1  female  35.0  53.1000        S\n",
       "4         0       3    male  35.0   8.0500        S"
      ]
     },
     "execution_count": 260,
     "metadata": {},
     "output_type": "execute_result"
    }
   ],
   "source": [
    "# necessary cols => [Survival, Pclass, Sex, Age, Fare]\n",
    "\n",
    "ml_data = data.drop([\"Name\", \"PassengerId\", \"SibSp\", \"Parch\", \"Ticket\", \"Cabin\"], axis=1)\n",
    "ml_data.head()"
   ]
  },
  {
   "cell_type": "code",
   "execution_count": 261,
   "id": "f42126fb",
   "metadata": {},
   "outputs": [
    {
     "data": {
      "text/plain": [
       "array(['male', 'female'], dtype=object)"
      ]
     },
     "execution_count": 261,
     "metadata": {},
     "output_type": "execute_result"
    }
   ],
   "source": [
    "ml_data[\"Sex\"].unique()"
   ]
  },
  {
   "cell_type": "code",
   "execution_count": null,
   "id": "e0321855",
   "metadata": {},
   "outputs": [],
   "source": []
  },
  {
   "cell_type": "markdown",
   "id": "310a43c6",
   "metadata": {},
   "source": [
    "# Exploratory Data Analysis (EDA)"
   ]
  },
  {
   "cell_type": "markdown",
   "id": "730ff0df",
   "metadata": {},
   "source": [
    "Explore your data for meaningful insights"
   ]
  },
  {
   "cell_type": "code",
   "execution_count": null,
   "id": "9b9f33e2",
   "metadata": {},
   "outputs": [],
   "source": []
  },
  {
   "cell_type": "code",
   "execution_count": null,
   "id": "0fb54f3c",
   "metadata": {},
   "outputs": [],
   "source": []
  },
  {
   "cell_type": "markdown",
   "id": "8bb6f384",
   "metadata": {},
   "source": [
    "#### QUESTION 3\n",
    "#### What can you say about the Gender / Sex of passengers and their Survival rate?\n",
    "\n",
    "##### Hint:    you could use the groupby() function"
   ]
  },
  {
   "cell_type": "code",
   "execution_count": 262,
   "id": "bfbd2606",
   "metadata": {},
   "outputs": [
    {
     "data": {
      "text/plain": [
       "Sex\n",
       "female    314\n",
       "male      577\n",
       "Name: Survived, dtype: int64"
      ]
     },
     "execution_count": 262,
     "metadata": {},
     "output_type": "execute_result"
    }
   ],
   "source": [
    "ml_data.groupby(\"Sex\").count()['Survived']"
   ]
  },
  {
   "cell_type": "markdown",
   "id": "e2a3c6b8",
   "metadata": {},
   "source": [
    "Majority of the survivors were male"
   ]
  },
  {
   "cell_type": "code",
   "execution_count": null,
   "id": "6a068c33",
   "metadata": {},
   "outputs": [],
   "source": []
  },
  {
   "cell_type": "code",
   "execution_count": null,
   "id": "8658b4f7",
   "metadata": {},
   "outputs": [],
   "source": []
  },
  {
   "cell_type": "markdown",
   "id": "6cadd0ce",
   "metadata": {},
   "source": [
    "#### QUESTION 4\n",
    "#### What can you say about the Passenger Class and their Survival rate?\n",
    "\n",
    "##### Hint:    you could use the groupby() function"
   ]
  },
  {
   "cell_type": "code",
   "execution_count": 263,
   "id": "9521be0c",
   "metadata": {},
   "outputs": [
    {
     "data": {
      "text/plain": [
       "Pclass\n",
       "1    216\n",
       "2    184\n",
       "3    491\n",
       "Name: Survived, dtype: int64"
      ]
     },
     "execution_count": 263,
     "metadata": {},
     "output_type": "execute_result"
    }
   ],
   "source": [
    "ml_data.groupby(\"Pclass\").count()['Survived']"
   ]
  },
  {
   "cell_type": "markdown",
   "id": "aaf4b2eb",
   "metadata": {},
   "source": [
    "Those in class 3 were the most"
   ]
  },
  {
   "cell_type": "code",
   "execution_count": null,
   "id": "7e59f8e9",
   "metadata": {},
   "outputs": [],
   "source": []
  },
  {
   "cell_type": "markdown",
   "id": "b5c32fcc",
   "metadata": {},
   "source": [
    "#### QUESTION 5\n",
    "#### Show a Distribution of the spread of male and female passengers with reagards to Age?\n",
    "\n",
    "##### Hint:    you could use a Boxplot\n",
    "\n",
    "#### Give a comment based on your results"
   ]
  },
  {
   "cell_type": "code",
   "execution_count": 264,
   "id": "f0df557b",
   "metadata": {},
   "outputs": [
    {
     "data": {
      "text/plain": [
       "<AxesSubplot:xlabel='Sex', ylabel='Age'>"
      ]
     },
     "execution_count": 264,
     "metadata": {},
     "output_type": "execute_result"
    },
    {
     "data": {
      "image/png": "[encoded data removed]",
      "text/plain": [
       "<Figure size 640x480 with 1 Axes>"
      ]
     },
     "metadata": {},
     "output_type": "display_data"
    }
   ],
   "source": [
    "sns.boxplot(x=\"Sex\", y=\"Age\", data=ml_data)"
   ]
  },
  {
   "cell_type": "code",
   "execution_count": null,
   "id": "ce3e1a2a",
   "metadata": {},
   "outputs": [],
   "source": []
  },
  {
   "cell_type": "code",
   "execution_count": null,
   "id": "2e85bfbf",
   "metadata": {},
   "outputs": [],
   "source": []
  },
  {
   "cell_type": "code",
   "execution_count": null,
   "id": "c6f2bfeb",
   "metadata": {},
   "outputs": [],
   "source": []
  },
  {
   "cell_type": "markdown",
   "id": "a26fa4da",
   "metadata": {},
   "source": [
    "### Encoding\n",
    "In classification, categories are normally changed to numerical values\n",
    "\n",
    "Because not all algorithms can deal with non-numeric categories"
   ]
  },
  {
   "cell_type": "code",
   "execution_count": 265,
   "id": "c55236f9",
   "metadata": {},
   "outputs": [],
   "source": [
    "#### Creating an instance of our encoder\n",
    "\n",
    "le = LabelEncoder()"
   ]
  },
  {
   "cell_type": "code",
   "execution_count": 266,
   "id": "8b943fbf",
   "metadata": {},
   "outputs": [
    {
     "data": {
      "text/html": [
       "<div>\n",
       "<style scoped>\n",
       "    .dataframe tbody tr th:only-of-type {\n",
       "        vertical-align: middle;\n",
       "    }\n",
       "\n",
       "    .dataframe tbody tr th {\n",
       "        vertical-align: top;\n",
       "    }\n",
       "\n",
       "    .dataframe thead th {\n",
       "        text-align: right;\n",
       "    }\n",
       "</style>\n",
       "<table border=\"1\" class=\"dataframe\">\n",
       "  <thead>\n",
       "    <tr style=\"text-align: right;\">\n",
       "      <th></th>\n",
       "      <th>Survived</th>\n",
       "      <th>Pclass</th>\n",
       "      <th>Sex</th>\n",
       "      <th>Age</th>\n",
       "      <th>Fare</th>\n",
       "      <th>Embarked</th>\n",
       "    </tr>\n",
       "  </thead>\n",
       "  <tbody>\n",
       "    <tr>\n",
       "      <th>0</th>\n",
       "      <td>0</td>\n",
       "      <td>3</td>\n",
       "      <td>1</td>\n",
       "      <td>22.0</td>\n",
       "      <td>7.2500</td>\n",
       "      <td>2</td>\n",
       "    </tr>\n",
       "    <tr>\n",
       "      <th>1</th>\n",
       "      <td>1</td>\n",
       "      <td>1</td>\n",
       "      <td>0</td>\n",
       "      <td>38.0</td>\n",
       "      <td>71.2833</td>\n",
       "      <td>0</td>\n",
       "    </tr>\n",
       "    <tr>\n",
       "      <th>2</th>\n",
       "      <td>1</td>\n",
       "      <td>3</td>\n",
       "      <td>0</td>\n",
       "      <td>26.0</td>\n",
       "      <td>7.9250</td>\n",
       "      <td>2</td>\n",
       "    </tr>\n",
       "    <tr>\n",
       "      <th>3</th>\n",
       "      <td>1</td>\n",
       "      <td>1</td>\n",
       "      <td>0</td>\n",
       "      <td>35.0</td>\n",
       "      <td>53.1000</td>\n",
       "      <td>2</td>\n",
       "    </tr>\n",
       "    <tr>\n",
       "      <th>4</th>\n",
       "      <td>0</td>\n",
       "      <td>3</td>\n",
       "      <td>1</td>\n",
       "      <td>35.0</td>\n",
       "      <td>8.0500</td>\n",
       "      <td>2</td>\n",
       "    </tr>\n",
       "  </tbody>\n",
       "</table>\n",
       "</div>"
      ],
      "text/plain": [
       "   Survived  Pclass  Sex   Age     Fare  Embarked\n",
       "0         0       3    1  22.0   7.2500         2\n",
       "1         1       1    0  38.0  71.2833         0\n",
       "2         1       3    0  26.0   7.9250         2\n",
       "3         1       1    0  35.0  53.1000         2\n",
       "4         0       3    1  35.0   8.0500         2"
      ]
     },
     "execution_count": 266,
     "metadata": {},
     "output_type": "execute_result"
    }
   ],
   "source": [
    "##### Convert the textual categorical columns that are necessary for your prediction into numerical categories\n",
    "\n",
    "ml_data[\"Sex\"] = le.fit_transform(ml_data[\"Sex\"])\n",
    "ml_data[\"Embarked\"] = le.fit_transform(ml_data[\"Embarked\"])\n",
    "\n",
    "# 0 = Female\n",
    "# 1 = Male\n",
    "ml_data.head()"
   ]
  },
  {
   "cell_type": "code",
   "execution_count": null,
   "id": "73355856",
   "metadata": {},
   "outputs": [],
   "source": []
  },
  {
   "cell_type": "markdown",
   "id": "a6618281",
   "metadata": {},
   "source": [
    "Choosing our target and predictors\n",
    "\n",
    "\n"
   ]
  },
  {
   "cell_type": "code",
   "execution_count": 267,
   "id": "ac251d50",
   "metadata": {},
   "outputs": [],
   "source": [
    "# Target = Survived\n",
    "y = ml_data[\"Survived\"]\n",
    "\n",
    "# Predictors = [Pclass, Sex, Age, Fare], Embarked?\n",
    "X = ml_data.drop([\"Survived\"], axis=1)"
   ]
  },
  {
   "cell_type": "code",
   "execution_count": 268,
   "id": "607d3bd9",
   "metadata": {},
   "outputs": [
    {
     "data": {
      "text/plain": [
       "Index(['Pclass', 'Sex', 'Age', 'Fare', 'Embarked'], dtype='object')"
      ]
     },
     "execution_count": 268,
     "metadata": {},
     "output_type": "execute_result"
    }
   ],
   "source": [
    "X.columns"
   ]
  },
  {
   "cell_type": "code",
   "execution_count": null,
   "id": "00059298",
   "metadata": {},
   "outputs": [],
   "source": []
  },
  {
   "cell_type": "code",
   "execution_count": null,
   "id": "40d7495d",
   "metadata": {},
   "outputs": [],
   "source": []
  },
  {
   "cell_type": "markdown",
   "id": "924a1368",
   "metadata": {},
   "source": [
    "Splitting our data into test and train"
   ]
  },
  {
   "cell_type": "code",
   "execution_count": 269,
   "id": "f7678ad7",
   "metadata": {},
   "outputs": [],
   "source": [
    "# split the data\n",
    "\n",
    "X_train, X_test, y_train, y_test = train_test_split(X, y, test_size=0.2, random_state=42)\n"
   ]
  },
  {
   "cell_type": "markdown",
   "id": "be917e28",
   "metadata": {},
   "source": [
    "Building our classification model\n"
   ]
  },
  {
   "cell_type": "code",
   "execution_count": 270,
   "id": "321f73b4",
   "metadata": {},
   "outputs": [],
   "source": [
    "#### Build your model\n",
    "\n",
    "model_log = LogisticRegression()\n",
    "\n",
    "model_knn = KNeighborsClassifier(n_neighbors=3)\n",
    "\n",
    "model_linear = LinearRegression()"
   ]
  },
  {
   "cell_type": "code",
   "execution_count": 271,
   "id": "0040da16",
   "metadata": {},
   "outputs": [
    {
     "data": {
      "text/plain": [
       "LinearRegression()"
      ]
     },
     "execution_count": 271,
     "metadata": {},
     "output_type": "execute_result"
    }
   ],
   "source": [
    "model_log.fit(X_train, y_train)\n",
    "\n",
    "model_knn.fit(X_train, y_train)\n",
    "\n",
    "model_linear.fit(X_train, y_train)"
   ]
  },
  {
   "cell_type": "code",
   "execution_count": 272,
   "id": "e6a51a91",
   "metadata": {},
   "outputs": [],
   "source": [
    "#### Do a prediction with your test data"
   ]
  },
  {
   "cell_type": "code",
   "execution_count": 273,
   "id": "ca5e9917",
   "metadata": {},
   "outputs": [
    {
     "name": "stderr",
     "output_type": "stream",
     "text": [
      "/home/aceix/anaconda3/lib/python3.9/site-packages/sklearn/neighbors/_classification.py:228: FutureWarning: Unlike other reduction functions (e.g. `skew`, `kurtosis`), the default behavior of `mode` typically preserves the axis it acts along. In SciPy 1.11.0, this behavior will change: the default value of `keepdims` will become False, the `axis` over which the statistic is taken will be eliminated, and the value None will no longer be accepted. Set `keepdims` to True or False to avoid this warning.\n",
      "  mode, _ = stats.mode(_y[neigh_ind, k], axis=1)\n"
     ]
    }
   ],
   "source": [
    "y_pred_log = model_log.predict(X_test)\n",
    "\n",
    "y_pred_knn = model_knn.predict(X_test)\n",
    "\n",
    "y_pred_linear = model_linear.predict(X_test)"
   ]
  },
  {
   "cell_type": "code",
   "execution_count": 274,
   "id": "09c4908c",
   "metadata": {},
   "outputs": [
    {
     "data": {
      "text/plain": [
       "array([0, 0, 0, 1, 1, 1, 1, 0, 1, 1, 0, 0, 1, 0, 0, 1, 0, 1, 0, 0, 0, 0,\n",
       "       1, 0, 0, 0, 0, 0, 0, 1, 0, 1, 1, 1, 0, 0, 0, 1, 1, 0, 0, 0, 0, 0,\n",
       "       1, 0, 0, 0, 0, 0, 1, 1, 0, 1, 0, 1, 0, 1, 1, 1, 0, 1, 1, 0, 0, 1,\n",
       "       0, 0, 0, 1, 1, 1, 1, 1, 0, 0, 1, 1, 1, 0, 0, 1, 1, 0, 0, 0, 1, 1,\n",
       "       0, 0, 0, 1, 0, 0, 0, 0, 0, 0, 1, 0, 0, 0, 1, 0, 0, 0, 1, 0, 0, 0,\n",
       "       1, 0, 1, 0, 0, 0, 0, 0, 1, 0, 0, 1, 1, 0, 0, 1, 1, 1, 1, 0, 1, 0,\n",
       "       0, 1, 0, 1, 1, 0, 0, 1, 0, 1, 0, 0, 1, 1, 0, 0, 1, 0, 0, 0, 0, 1,\n",
       "       0, 0, 0, 1, 1, 1, 0, 0, 0, 1, 0, 0, 0, 1, 0, 0, 1, 1, 0, 1, 0, 0,\n",
       "       0, 1, 1])"
      ]
     },
     "execution_count": 274,
     "metadata": {},
     "output_type": "execute_result"
    }
   ],
   "source": [
    "y_pred_log"
   ]
  },
  {
   "cell_type": "code",
   "execution_count": 275,
   "id": "268697aa",
   "metadata": {},
   "outputs": [
    {
     "data": {
      "text/plain": [
       "array([0, 0, 0, 0, 0, 1, 1, 0, 1, 1, 1, 0, 0, 0, 0, 0, 1, 1, 0, 0, 0, 0,\n",
       "       0, 0, 0, 0, 0, 0, 0, 1, 0, 1, 1, 0, 0, 0, 0, 1, 1, 0, 0, 0, 0, 0,\n",
       "       0, 0, 0, 0, 0, 0, 1, 1, 0, 1, 1, 0, 0, 1, 0, 0, 0, 0, 1, 0, 0, 0,\n",
       "       0, 0, 0, 1, 0, 1, 1, 1, 0, 1, 0, 1, 1, 1, 0, 0, 1, 0, 0, 0, 1, 1,\n",
       "       0, 0, 0, 0, 0, 0, 0, 0, 1, 0, 1, 1, 0, 0, 1, 0, 0, 0, 0, 0, 0, 0,\n",
       "       0, 0, 1, 0, 0, 0, 0, 0, 1, 0, 0, 1, 1, 0, 0, 0, 1, 1, 0, 0, 1, 0,\n",
       "       0, 1, 0, 0, 1, 0, 0, 0, 0, 0, 0, 0, 0, 0, 0, 1, 0, 0, 0, 0, 0, 0,\n",
       "       0, 0, 0, 1, 0, 0, 0, 0, 0, 1, 0, 0, 0, 0, 0, 0, 1, 0, 0, 1, 0, 0,\n",
       "       0, 0, 1])"
      ]
     },
     "execution_count": 275,
     "metadata": {},
     "output_type": "execute_result"
    }
   ],
   "source": [
    "y_pred_knn"
   ]
  },
  {
   "cell_type": "code",
   "execution_count": 276,
   "id": "2060bcc1",
   "metadata": {},
   "outputs": [
    {
     "data": {
      "text/plain": [
       "array([ 0.16606943,  0.23233577,  0.1089122 ,  0.82897668,  0.72387245,\n",
       "        0.91905406,  0.62080193,  0.12443475,  0.67046589,  0.94453707,\n",
       "        0.37581956,  0.01722788,  0.57554399,  0.162057  ,  0.21329412,\n",
       "        0.95631217,  0.35670497,  0.62080383,  0.24767687,  0.33759017,\n",
       "        0.09363029,  0.38664453,  0.61332517,  0.10894334,  0.07468695,\n",
       "        0.14759371,  0.45511536,  0.23239565,  0.17051554,  0.56748151,\n",
       "        0.11273181,  0.60186176,  0.49720997,  0.57511484,  0.11655581,\n",
       "        0.17369108,  0.40978074,  0.62080193,  0.99399131,  0.07452876,\n",
       "        0.27204784,  0.0745084 ,  0.07453245,  0.12020757,  0.60551995,\n",
       "        0.12482698,  0.1127381 ,  0.09748243,  0.09361003,  0.38839914,\n",
       "        0.75844721,  0.82007705,  0.03298457,  0.47674994, -0.0173234 ,\n",
       "        0.94963566,  0.22851546,  0.92277151,  0.71790041,  0.65900807,\n",
       "        0.10508831,  0.80191118,  0.74476231,  0.40573108,  0.12020757,\n",
       "        0.6336022 ,  0.27204784,  0.07452826,  0.21172106,  0.91107678,\n",
       "        0.75240292,  1.04537707,  0.50865422,  0.96085791,  0.09744959,\n",
       "        0.04796997,  0.61507148,  1.02499688,  0.70624787,  0.52957448,\n",
       "        0.12495423,  0.74057073,  0.95826739,  0.12020728,  0.39406174,\n",
       "        0.33720769,  0.99214173,  0.99461239,  0.37072736,  0.07451329,\n",
       "        0.15123736,  0.65208921,  0.28363453,  0.12020708,  0.07452876,\n",
       "        0.07834807,  0.33376986,  0.01340758,  0.71388848,  0.08216937,\n",
       "        0.27202221,  0.05158847,  1.03745373,  0.04012576,  0.068802  ,\n",
       "        0.08980709,  0.69923004,  0.33726681,  0.07074688,  0.4551939 ,\n",
       "        0.90695001,  0.10698588,  0.99920338,  0.37899763,  0.41042236,\n",
       "        0.10895821,  0.33685198,  0.30465574,  0.76775599,  0.50317158,\n",
       "        0.26292216,  0.98743557,  0.77768143,  0.34803749,  0.08979451,\n",
       "        0.47418884,  0.82991945,  0.51747331,  0.66664492,  0.10509489,\n",
       "        0.62080503,  0.16606943,  0.23972487,  0.66692012,  0.42143224,\n",
       "        0.72012909,  0.99972505,  0.07452587,  0.02485652,  0.61738371,\n",
       "        0.10510407,  0.68363743,  0.24385656,  0.20978521,  0.58311088,\n",
       "        0.72199617,  0.23621595,  0.0986251 ,  1.00057867,  0.02104819,\n",
       "        0.16591294,  0.0936207 ,  0.11654972,  0.62119476,  0.07453245,\n",
       "        0.0745085 ,  0.07569287,  0.62080283,  0.71419987,  0.60952665,\n",
       "        0.18688908,  0.40574605,  0.20183321,  0.9990373 ,  0.12022454,\n",
       "        0.36042833,  0.2628982 ,  0.90694672,  0.10127089,  0.05158667,\n",
       "        0.52091416,  0.78265397,  0.37900003,  0.74306988,  0.12035396,\n",
       "        0.16587731,  0.54130307,  0.78641439,  0.67084162])"
      ]
     },
     "execution_count": 276,
     "metadata": {},
     "output_type": "execute_result"
    }
   ],
   "source": [
    "y_pred_linear"
   ]
  },
  {
   "cell_type": "code",
   "execution_count": 277,
   "id": "3682526d",
   "metadata": {},
   "outputs": [],
   "source": [
    "#### Evaluate your model\n"
   ]
  },
  {
   "cell_type": "code",
   "execution_count": null,
   "id": "6728aeff",
   "metadata": {},
   "outputs": [],
   "source": []
  },
  {
   "cell_type": "code",
   "execution_count": 278,
   "id": "4d0e46e2",
   "metadata": {},
   "outputs": [
    {
     "data": {
      "text/plain": [
       "0.7988826815642458"
      ]
     },
     "execution_count": 278,
     "metadata": {},
     "output_type": "execute_result"
    }
   ],
   "source": [
    "##### ACCURACY\n",
    "\n",
    "accuracy_score(y_test, y_pred_log)"
   ]
  },
  {
   "cell_type": "code",
   "execution_count": 279,
   "id": "5fbd98b7",
   "metadata": {},
   "outputs": [
    {
     "data": {
      "text/plain": [
       "0.7318435754189944"
      ]
     },
     "execution_count": 279,
     "metadata": {},
     "output_type": "execute_result"
    }
   ],
   "source": [
    "accuracy_score(y_test, y_pred_knn)"
   ]
  },
  {
   "cell_type": "code",
   "execution_count": 284,
   "id": "29ff2f31",
   "metadata": {},
   "outputs": [
    {
     "name": "stdout",
     "output_type": "stream",
     "text": [
      "R-squared value: 0.17065637065637063\n"
     ]
    }
   ],
   "source": [
    "r2 = r2_score(y_test, y_pred)\n",
    "print(\"R-squared value:\", r2)"
   ]
  },
  {
   "cell_type": "code",
   "execution_count": null,
   "id": "1396fd42",
   "metadata": {},
   "outputs": [],
   "source": [
    "#### Confusion Matrix\n",
    "\n",
    "cnf_matrix = confusion_matrix(y_test, y_pred_log)"
   ]
  },
  {
   "cell_type": "code",
   "execution_count": null,
   "id": "16191785",
   "metadata": {},
   "outputs": [
    {
     "data": {
      "text/plain": [
       "<AxesSubplot:>"
      ]
     },
     "execution_count": 247,
     "metadata": {},
     "output_type": "execute_result"
    },
    {
     "data": {
      "image/png": "[encoded data removed]",
      "text/plain": [
       "<Figure size 640x480 with 2 Axes>"
      ]
     },
     "metadata": {},
     "output_type": "display_data"
    }
   ],
   "source": [
    "sns.heatmap(cnf_matrix, annot=True, fmt=\"d\")"
   ]
  },
  {
   "cell_type": "code",
   "execution_count": null,
   "id": "fde17f83",
   "metadata": {},
   "outputs": [],
   "source": []
  },
  {
   "cell_type": "markdown",
   "id": "9ede5fc8",
   "metadata": {},
   "source": [
    "### Extra analysis"
   ]
  },
  {
   "attachments": {},
   "cell_type": "markdown",
   "id": "ea01091a",
   "metadata": {},
   "source": [
    "Use elbow method for KNN"
   ]
  },
  {
   "cell_type": "code",
   "execution_count": null,
   "id": "39678938",
   "metadata": {},
   "outputs": [],
   "source": [
    "error_rate = []\n",
    "\n",
    "for i in range(1, 30):\n",
    "  knn = KNeighborsClassifier(n_neighbors=i)\n",
    "  knn.fit(X_train, y_train)\n",
    "  pred_i = knn.predict(X_test)\n",
    "  error_rate.append(np.mean(pred_i != y_test))\n"
   ]
  },
  {
   "cell_type": "code",
   "execution_count": null,
   "id": "b3731fcc",
   "metadata": {},
   "outputs": [
    {
     "data": {
      "text/plain": [
       "Text(0, 0.5, 'Error Rate')"
      ]
     },
     "execution_count": 252,
     "metadata": {},
     "output_type": "execute_result"
    },
    {
     "data": {
      "image/png": "[encoded data removed]",
      "text/plain": [
       "<Figure size 1000x600 with 1 Axes>"
      ]
     },
     "metadata": {},
     "output_type": "display_data"
    }
   ],
   "source": [
    "plt.figure(figsize=(10,6))\n",
    "plt.plot(range(1, 30), error_rate, color='blue', linestyle='dashed', marker='o', markerfacecolor='red', markersize=10)\n",
    "plt.title('Error Rate vs. K Value')\n",
    "plt.xlabel('K')\n",
    "plt.ylabel('Error Rate')\n"
   ]
  },
  {
   "attachments": {},
   "cell_type": "markdown",
   "id": "c044a216",
   "metadata": {},
   "source": [
    "#### Conclusion\n",
    "\n",
    "Logistic Regression is the best model for this dataset\n",
    "\n",
    "accuracy = 0.7988826815642458"
   ]
  }
 ],
 "metadata": {
  "kernelspec": {
   "display_name": "Python 3 (ipykernel)",
   "language": "python",
   "name": "python3"
  },
  "language_info": {
   "codemirror_mode": {
    "name": "ipython",
    "version": 3
   },
   "file_extension": ".py",
   "mimetype": "text/x-python",
   "name": "python",
   "nbconvert_exporter": "python",
   "pygments_lexer": "ipython3",
   "version": "3.9.13"
  }
 },
 "nbformat": 4,
 "nbformat_minor": 5
}
